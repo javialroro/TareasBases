{
 "cells": [
  {
   "cell_type": "code",
   "execution_count": 2,
   "metadata": {},
   "outputs": [],
   "source": [
    "from pymongo import MongoClient\n",
    "\n",
    "client = MongoClient('localhost', 27017, username='root', password='example')\n",
    "\n",
    "db = client['posts']\n",
    "posts_collection = db['posts']\n",
    "posts_collection.drop()\n",
    "\n",
    "\n"
   ]
  },
  {
   "cell_type": "code",
   "execution_count": 46,
   "metadata": {},
   "outputs": [],
   "source": [
    "from itertools import islice\n",
    "import json\n",
    "import pandas as pd\n",
    "from datetime import datetime\n",
    "\n",
    "with open ('data.jsonl', 'r') as file:\n",
    "    for line in file:\n",
    "        data = json.loads(line)\n",
    "        data['post']['timestamp'] = datetime.fromisoformat(data['post']['timestamp'])\n",
    "        for comment in data['comments']:\n",
    "            comment['comment']['timestamp'] = datetime.fromisoformat(comment['comment']['timestamp'])\n",
    "        posts_collection.insert_one(data)"
   ]
  },
  {
   "cell_type": "code",
   "execution_count": null,
   "metadata": {},
   "outputs": [],
   "source": [
    "#1.1\n",
    "import json\n",
    "import random\n",
    "\n",
    "from faker import Faker\n",
    "\n",
    "# Create an instance of the Faker class\n",
    "fake = Faker()\n",
    "\n",
    "# Define the fields for posts, comments, and user information\n",
    "post_fields = [\"title\", \"content\"]\n",
    "comment_fields = [\"text\", \"timestamp\"]\n",
    "user_fields = [\"name\", \"email\", \"age\"]\n",
    "\n",
    "# Generate a list of 5 users with random information\n",
    "users = []\n",
    "for i in range(5):\n",
    "    user = {}\n",
    "    user[\"name\"] = fake.name()\n",
    "    user[\"email\"] = fake.email()\n",
    "    user[\"age\"] = random.randint(18, 60)\n",
    "    users.append(user)\n",
    "\n",
    "# Generate random posts and comments for each user\n",
    "data = []\n",
    "for user in users:\n",
    "    num_posts = random.randint(1, 100)\n",
    "    for _ in range(num_posts):\n",
    "        post = {}\n",
    "        post[\"user\"] = user[\"name\"]\n",
    "        post[\"user_email\"] = user[\"email\"]\n",
    "        post[\"user_age\"] = user[\"age\"]\n",
    "        post[\"post\"] = {}\n",
    "        post[\"post\"][\"title\"] = f'Random title for {user[\"name\"]}'\n",
    "        post[\"post\"][\"content\"] = f'Random content for {user[\"name\"]} {fake.text()}'\n",
    "        post[\"post\"][\"timestamp\"] = fake.date_time().isoformat()\n",
    "        num_comments = random.randint(0, 5)\n",
    "        post[\"comments\"] = []\n",
    "        for _ in range(num_comments):\n",
    "            comment = {}\n",
    "            comment[\"user\"] = random.choice(users)[\"name\"]\n",
    "            comment[\"user_email\"] = random.choice(users)[\"email\"]\n",
    "            comment[\"user_age\"] = random.choice(users)[\"age\"]\n",
    "            comment[\"comment\"] = {}\n",
    "            comment[\"comment\"][\"text\"] = f\"Random text {fake.text()}\"\n",
    "            comment[\"comment\"][\"timestamp\"] = fake.date_time().isoformat()\n",
    "            post[\"comments\"].append(comment)\n",
    "        data.append(post)\n",
    "\n",
    "for item in data:\n",
    "    posts_collection.insert_one(item)\n",
    "    print(item)\n",
    "    print('\\n)')\n",
    "\n",
    "    "
   ]
  },
  {
   "cell_type": "code",
   "execution_count": null,
   "metadata": {},
   "outputs": [],
   "source": [
    "#1.2\n",
    "\n",
    "\n",
    "import pandas as pd\n",
    "# Buscar todos los usuarios mayores a 25\n",
    "\n",
    "users = posts_collection.aggregate([\n",
    "    {\"$match\": {\"user_age\": {\"$gt\": 25}}},\n",
    "    {\"$group\": {\"_id\": \"$user\", \"user_age\": {\"$first\": \"$user_age\"}}},\n",
    "    {\"$project\": {\"_id\": 0, \"user\": \"$_id\", \"user_age\": 1}}\n",
    "])\n",
    "\n",
    "\n",
    "# Convertir el cursor a un DataFrame de pandas\n",
    "df = pd.DataFrame(list(users))\n",
    "df\n"
   ]
  },
  {
   "cell_type": "code",
   "execution_count": null,
   "metadata": {},
   "outputs": [],
   "source": [
    "#1.3\n",
    "# Buscar un usuario por direccion de correo\n",
    "\n",
    "user = posts_collection.find_one({\"user_email\": \"tmartin@example.org\"})\n",
    "# Imprimir el resultado\n",
    "print(user)\n"
   ]
  },
  {
   "cell_type": "code",
   "execution_count": null,
   "metadata": {},
   "outputs": [],
   "source": [
    "#1.4\n",
    "#Actualizar el contenido de la publicación de un usuario específico\n",
    "\n",
    "user = posts_collection.update_one({\"user\": \"Mrs. Christine Sawyer\"}, {\"$set\": {\"post.content\": \"Nuevo contenido para la publicación de Mrs. Christine Sawyer\"}})\n",
    "                                   \n",
    "cambio = posts_collection.find({\"user\": \"Mrs. Christine Sawyer\"})\n",
    "\n",
    "df = pd.DataFrame(list(cambio))\n",
    "df"
   ]
  },
  {
   "cell_type": "code",
   "execution_count": null,
   "metadata": {},
   "outputs": [],
   "source": [
    "#1.5\n",
    "#Eliminar un documento de usuario y todos sus comentarios asociados.\n",
    "\n",
    "user = posts_collection.delete_many({\"user\": \"Lindsay Thornton\"})\n",
    "\n",
    "if user.deleted_count >= 1:\n",
    "    print(\"El documento del usuario ha sido eliminado correctamente.\")\n",
    "else:\n",
    "    print(\"El documento del usuario no pudo ser eliminado.\")\n",
    "    \n",
    "comentarios = posts_collection.update_many({\"comments.user\": \"Lindsay Thornton\"}, {\"$pull\": {\"comments\":{\"user\": \"Lindsay Thornton\"}}})\n",
    "\n",
    "if comentarios.modified_count > 0:\n",
    "    print(\"Se eliminaron\", comentarios.modified_count, \"comentarios de Lindsay Thornton correctamente.\")\n",
    "else:\n",
    "    print(\"No se encontraron comentarios de Lindsay Thornton o no se pudieron eliminar.\")"
   ]
  },
  {
   "cell_type": "code",
   "execution_count": null,
   "metadata": {},
   "outputs": [],
   "source": [
    "#2.1\n",
    "# Buscar todos los usuarios cuyo nombre de usuario contenga la palabra S̈mith.̈ (Expresiones regulares)\n",
    "users = posts_collection.aggregate([\n",
    "    {\"$match\": {\"user\": {\"$regex\": \"Smith\", \"$options\": \"i\"}}},\n",
    "    {\"$group\": {\"_id\": \"$user\"}},\n",
    "    {\"$project\": {\"_id\": 0, \"user\": \"$_id\"}}\n",
    "])\n",
    "\n",
    "\n",
    "# Convertir el cursor a un DataFrame de pandas\n",
    "df = pd.DataFrame(list(users))\n",
    "df\n"
   ]
  },
  {
   "cell_type": "code",
   "execution_count": null,
   "metadata": {},
   "outputs": [],
   "source": [
    "#2.2\n",
    "# Buscar publicaciones creadas después de una fecha específica (por ejemplo, 2000-01-01)\n",
    "\n",
    "\n",
    "date = datetime(2000, 1, 1)\n",
    "\n",
    "\n",
    "posts = posts_collection.find(\n",
    "    {\"post.timestamp\": {\"$gt\": date}},\n",
    "    {\"user\": 1, \"post.timestamp\": 1, \"_id\": 0} # Seleccionar solo el nombre del usuario y la fecha\n",
    ")\n",
    "\n",
    "\n",
    "df = pd.DataFrame(list(posts))\n",
    "df.rename(columns={\"post\": \"timestamp\"}, inplace=True)  # Renombrar la columna \"post\" a \"timestamp\"\n",
    "df\n"
   ]
  },
  {
   "cell_type": "code",
   "execution_count": 53,
   "metadata": {},
   "outputs": [
    {
     "data": {
      "text/html": [
       "<div>\n",
       "<style scoped>\n",
       "    .dataframe tbody tr th:only-of-type {\n",
       "        vertical-align: middle;\n",
       "    }\n",
       "\n",
       "    .dataframe tbody tr th {\n",
       "        vertical-align: top;\n",
       "    }\n",
       "\n",
       "    .dataframe thead th {\n",
       "        text-align: right;\n",
       "    }\n",
       "</style>\n",
       "<table border=\"1\" class=\"dataframe\">\n",
       "  <thead>\n",
       "    <tr style=\"text-align: right;\">\n",
       "      <th></th>\n",
       "      <th>user</th>\n",
       "    </tr>\n",
       "  </thead>\n",
       "  <tbody>\n",
       "    <tr>\n",
       "      <th>0</th>\n",
       "      <td>Lindsay Thornton</td>\n",
       "    </tr>\n",
       "    <tr>\n",
       "      <th>1</th>\n",
       "      <td>Joann Bowen</td>\n",
       "    </tr>\n",
       "    <tr>\n",
       "      <th>2</th>\n",
       "      <td>Will Bowen</td>\n",
       "    </tr>\n",
       "    <tr>\n",
       "      <th>3</th>\n",
       "      <td>Joann Bowen</td>\n",
       "    </tr>\n",
       "    <tr>\n",
       "      <th>4</th>\n",
       "      <td>Kayla Hill</td>\n",
       "    </tr>\n",
       "    <tr>\n",
       "      <th>...</th>\n",
       "      <td>...</td>\n",
       "    </tr>\n",
       "    <tr>\n",
       "      <th>214</th>\n",
       "      <td>Travis Nicholson</td>\n",
       "    </tr>\n",
       "    <tr>\n",
       "      <th>215</th>\n",
       "      <td>Travis Nicholson</td>\n",
       "    </tr>\n",
       "    <tr>\n",
       "      <th>216</th>\n",
       "      <td>Travis Nicholson</td>\n",
       "    </tr>\n",
       "    <tr>\n",
       "      <th>217</th>\n",
       "      <td>Travis Nicholson</td>\n",
       "    </tr>\n",
       "    <tr>\n",
       "      <th>218</th>\n",
       "      <td>Pablito</td>\n",
       "    </tr>\n",
       "  </tbody>\n",
       "</table>\n",
       "<p>219 rows × 1 columns</p>\n",
       "</div>"
      ],
      "text/plain": [
       "                 user\n",
       "0    Lindsay Thornton\n",
       "1         Joann Bowen\n",
       "2          Will Bowen\n",
       "3         Joann Bowen\n",
       "4          Kayla Hill\n",
       "..                ...\n",
       "214  Travis Nicholson\n",
       "215  Travis Nicholson\n",
       "216  Travis Nicholson\n",
       "217  Travis Nicholson\n",
       "218           Pablito\n",
       "\n",
       "[219 rows x 1 columns]"
      ]
     },
     "execution_count": 53,
     "metadata": {},
     "output_type": "execute_result"
    }
   ],
   "source": [
    "#2.3 Buscar usuarios que aún no han publicado ningún comentario\n",
    "\n",
    "import pandas as pd\n",
    "\n",
    "users = posts_collection.aggregate([\n",
    "    {\"$project\": {\n",
    "        \"user\": 1,\n",
    "        \"comments_count\": {\"$size\": \"$comments\"}\n",
    "    }},\n",
    "    {\"$match\": {\"comments_count\": 0}},\n",
    "    {\"$project\": {\"_id\": 0, \"user\": 1}}\n",
    "])\n",
    "\n",
    "# Convertir el cursor a un DataFrame de pandas\n",
    "df = pd.DataFrame(list(users))\n",
    "df"
   ]
  },
  {
   "cell_type": "code",
   "execution_count": null,
   "metadata": {},
   "outputs": [],
   "source": [
    "#2.4\n",
    "# Encontrar la edad promedio de todos los usuarios.\n",
    "\n",
    "users = posts_collection.aggregate([\n",
    "{\"$group\":{\"_id\": None,\"edad_promedio\": {\"$avg\": \"$user_age\"}}}]\n",
    ")\n",
    "\n",
    "df = pd.DataFrame(list(users))\n",
    "df"
   ]
  },
  {
   "cell_type": "code",
   "execution_count": null,
   "metadata": {},
   "outputs": [],
   "source": [
    "#2.5\n",
    "#Buscar documentos donde la longitud del contenido de la publicación sea superior a 100 caracteres\n",
    "documentos = posts_collection.find({\"$expr\": {\"$gt\":[{\"$strLenCP\":\"$post.content\"}, 100]}})\n",
    "\n",
    "df = pd.DataFrame(list(documentos))\n",
    "df\n"
   ]
  },
  {
   "cell_type": "code",
   "execution_count": null,
   "metadata": {},
   "outputs": [],
   "source": [
    "#3.1\n",
    "#Buscar usuarios que tengan más de 20 años pero menos de 30. (Combinar operadores)\n",
    "\n",
    "users = posts_collection.aggregate([\n",
    "{\"$match\": {\"user_age\": {\"$gt\": 25, \"$lt\": 30}}},\n",
    "{\"$group\": {\"_id\": \"$user\", \"user_age\": {\"$first\": \"$user_age\"}}},\n",
    "{\"$project\": {\"_id\": 0, \"user\": \"$_id\", \"user_age\": 1}}\n",
    "])\n",
    "\n",
    "df = pd.DataFrame(list(users))\n",
    "df"
   ]
  },
  {
   "cell_type": "code",
   "execution_count": null,
   "metadata": {},
   "outputs": [],
   "source": [
    "#3.2\n",
    "\n",
    "# Recuperar solo el nombre de usuario y la edad del usuario de todos los documentos. (Proyección\n",
    "users = posts_collection.aggregate([\n",
    "    {\"$group\": {\"_id\": \"$user\", \"user_age\": {\"$first\": \"$user_age\"}}},\n",
    "    {\"$project\": {\"_id\": 0, \"user\": \"$_id\", \"user_age\": 1}}])\n",
    "df = pd.DataFrame(list(users))\n",
    "df"
   ]
  },
  {
   "cell_type": "code",
   "execution_count": null,
   "metadata": {},
   "outputs": [],
   "source": [
    "#3.3 Buscar todas las publicaciones y excluir el campo ”comentarios”.\n",
    "\n",
    "posts = posts_collection.find({}, {\"_id\": 0,\"comments\": 0})\n",
    "df = pd.DataFrame(list(posts))\n",
    "df\n"
   ]
  },
  {
   "cell_type": "code",
   "execution_count": null,
   "metadata": {},
   "outputs": [],
   "source": [
    "#3.4\n",
    "# Buscar usuarios con al menos un comentario en su matriz ”comentarios”\n",
    "userConComentarios = posts_collection.find({\"comments\": {\"$exists\": True, \"$not\": {\"$size\": 0}}})\n",
    "\n",
    "df = pd.DataFrame(list(userConComentarios))\n",
    "df"
   ]
  },
  {
   "cell_type": "code",
   "execution_count": null,
   "metadata": {},
   "outputs": [],
   "source": [
    "#3.5 Buscar comentarios publicados por usuarios mayores de 40 años. (Consultas anidadas)\n",
    "\n",
    "users = posts_collection.aggregate([\n",
    "    {\"$unwind\": \"$comments\"},\n",
    "    {\"$match\": {\"user_age\": {\"$gt\": 40}}},\n",
    "    {\"$project\": {\"_id\": 0, \"user\": \"$comments.user\", \"user_age\": 1, \"comment\": \"$comments.comment\"}}\n",
    "])\n",
    "\n",
    "df = pd.DataFrame(list(users))\n",
    "df"
   ]
  },
  {
   "cell_type": "code",
   "execution_count": null,
   "metadata": {},
   "outputs": [],
   "source": [
    "#4.1\n",
    "# Ordenar todos los usuarios por edad en orden descendente\n",
    "\n",
    "users = posts_collection.aggregate([\n",
    "{\"$group\": {\"_id\": \"$user\", \"user_age\": {\"$first\": \"$user_age\"}}},\n",
    "{\"$sort\": {\"user_age\": -1}},\n",
    "{\"$project\": {\"_id\": 0, \"user\": \"$_id\", \"user_age\": 1}}\n",
    "])\n",
    "\n",
    "df = pd.DataFrame(list(users))\n",
    "df"
   ]
  },
  {
   "cell_type": "code",
   "execution_count": null,
   "metadata": {},
   "outputs": [],
   "source": [
    "#4.2\n",
    "\n",
    "#Buscar los top 3 usuarios principales con las publicaciones más recientes (en función de la marca de tiempo).\n",
    "\n",
    "users = posts_collection.aggregate([\n",
    "    {\"$sort\": {\"post.timestamp\": -1}},\n",
    "    {\"$group\": {\"_id\": \"$user\", \"latest_post\": {\"$first\": \"$post.timestamp\"}}},\n",
    "    {\"$sort\": {\"latest_post\": -1}},\n",
    "    {\"$limit\": 3},\n",
    "    {\"$project\": {\"_id\": 0, \"user\": \"$_id\", \"latest_post\": 1}}\n",
    "])\n",
    "\n",
    "df = pd.DataFrame(list(users))\n",
    "df"
   ]
  },
  {
   "cell_type": "code",
   "execution_count": null,
   "metadata": {},
   "outputs": [],
   "source": [
    "#4.3 Omitir los primeros 5 resultados y recuperar los próximos 10 usuarios.\n",
    "\n",
    "users = posts_collection.aggregate([\n",
    "    # {\"$group\": {\"_id\": \"$user\", \"user_age\": {\"$first\": \"$user_age\"}}},\n",
    "    {\"$skip\": 5},\n",
    "    {\"$limit\": 10},\n",
    "    # {\"$project\": {\"_id\": 0, \"user\": \"$_id\", \"user_age\": 1}}\n",
    "])\n",
    "\n",
    "df = pd.DataFrame(list(users))\n",
    "df"
   ]
  },
  {
   "cell_type": "code",
   "execution_count": null,
   "metadata": {},
   "outputs": [],
   "source": [
    "#5.1\n",
    "#1. Utilizar el pipeline de agregación para calcular el número total de usuarios.\n",
    "\n",
    "users = posts_collection.aggregate([\n",
    "{\"$group\": {\"_id\": \"$user\"}},\n",
    "{\"$group\": {\"_id\": None, \"Cantidad\": {\"$sum\": 1}}},\n",
    "{\"$project\": {\"_id\": 0, \"Cantidad\": 1}}\n",
    "])\n",
    "\n",
    "df = pd.DataFrame(list(users))\n",
    "df\n"
   ]
  },
  {
   "cell_type": "code",
   "execution_count": null,
   "metadata": {},
   "outputs": [],
   "source": [
    "#5.2\n",
    "\n",
    "#  Encontrar al usuario con el contenido de publicación más largo (en función del número de caracteres)\n",
    "\n",
    "users = posts_collection.aggregate([\n",
    "    {\"$project\": {\"user\": 1, \"largo_Contenido\": {\"$strLenCP\": \"$post.content\"}}},\n",
    "    {\"$sort\": {\"largo_Contenido\": -1}},\n",
    "     {\"$limit\": 1}\n",
    "])\n",
    "\n",
    "df = pd.DataFrame(list(users))\n",
    "df"
   ]
  },
  {
   "cell_type": "code",
   "execution_count": null,
   "metadata": {},
   "outputs": [],
   "source": [
    "#5.3  Agrupar a los usuarios por edad y contar la cantidad de usuarios en cada grupo de edad.\n",
    "\n",
    "users = posts_collection.aggregate([\n",
    "    {\"$group\": {\"_id\": {\"user\": \"$user\", \"age\": \"$user_age\"}}},  \n",
    "    {\"$group\": {\"_id\": \"$_id.age\", \"Cantidad\": {\"$sum\": 1}}},\n",
    "    {\"$project\": {\"_id\": 0, \"Edad\": \"$_id\", \"Cantidad\": 1}},\n",
    "    {\"$sort\": {\"Edad\": 1}}\n",
    "])\n",
    "\n",
    "\n",
    "df = pd.DataFrame(list(users))\n",
    "df\n"
   ]
  },
  {
   "cell_type": "code",
   "execution_count": null,
   "metadata": {},
   "outputs": [],
   "source": [
    "#5.4\n",
    "#Calcular la longitud promedio de los comentarios en todos los comentarios.\n",
    "cantComentarios= posts_collection.aggregate([\n",
    "    {\n",
    "        \"$unwind\": \"$comments\"  # Desenrolla la matriz de comentarios\n",
    "    },\n",
    "    {\n",
    "        \"$group\": {\n",
    "            \"_id\": None,\n",
    "            \"longitud_promedio_comentarios\": {\"$avg\": {\"$strLenCP\": \"$comments.comment.text\"}}\n",
    "        }\n",
    "    }\n",
    "])\n",
    "\n",
    "df = pd.DataFrame(list(cantComentarios))\n",
    "df"
   ]
  },
  {
   "cell_type": "code",
   "execution_count": null,
   "metadata": {},
   "outputs": [],
   "source": [
    "#5.5 Cambiar la forma como se presentan los datos, de tal forma que cada usuario tenga la lista de todos\n",
    "# los posts asociados a él. No se deben agregar el detalle de los comentarios, solo un nuevo campo con\n",
    "# el total de comentarios\n",
    "\n",
    "users = posts_collection.aggregate([\n",
    "    {\"$unwind\": \"$comments\"},\n",
    "    {\"$group\": {\"_id\": \"$user\", \"posts\": {\"$push\": \"$post\"}, \"total_comments\": {\"$sum\": 1}}},\n",
    "    {\"$project\": {\"_id\": 0, \"user\": \"$_id\", \"posts\": 1, \"total_comments\": 1}}\n",
    "])\n",
    "\n",
    "df = pd.DataFrame(list(users))\n",
    "df"
   ]
  },
  {
   "cell_type": "code",
   "execution_count": null,
   "metadata": {},
   "outputs": [],
   "source": [
    "#6.1\n",
    "\n",
    "# Incrementar la edad de todos los usuarios en 1 con operadores\n",
    "\n",
    "posts_collection.update_many({}, {\"$inc\": {\"user_age\": 1}})\n",
    "\n",
    "users = posts_collection.aggregate([\n",
    "    {\"$group\": {\"_id\": \"$user\", \"user_age\": {\"$first\": \"$user_age\"}}},\n",
    "    {\"$project\": {\"_id\": 0, \"user\": \"$_id\", \"user_age\": 1}}\n",
    "])\n",
    "\n",
    "\n",
    "df = pd.DataFrame(list(users))\n",
    "df"
   ]
  },
  {
   "cell_type": "code",
   "execution_count": null,
   "metadata": {},
   "outputs": [],
   "source": [
    "#6.2\n",
    "\n",
    "# Establecer el campo ”contenido” de una publicación específica en una cadena vacía.\n",
    "\n",
    "posts_collection.update_one({\"post.title\": \"Random title for Mrs. Christine Sawyer\"}, {\"$set\": {\"post.content\": \"\"}})\n",
    "\n",
    "post = posts_collection.find({\"post.content\": \"\"})\n",
    "\n",
    "df = pd.DataFrame(list(post))\n",
    "df"
   ]
  },
  {
   "cell_type": "code",
   "execution_count": null,
   "metadata": {},
   "outputs": [],
   "source": [
    "#6.3 . Eliminar todos los comentarios de la publicación de un usuario.\n",
    "\n",
    "posts_collection.update_one({\"user\": \"Mrs. Christine Sawyer\"}, {\"$unset\": {\"comments\": \"\"}})\n",
    "post = posts_collection.find({\"user\": \"Mrs. Christine Sawyer\"})\n",
    "df = pd.DataFrame(list(post))\n",
    "df\n"
   ]
  },
  {
   "cell_type": "code",
   "execution_count": null,
   "metadata": {},
   "outputs": [],
   "source": [
    "#6.4\n",
    "#Eliminar todos los usuarios con direcciones de correo electrónico que terminen en ”@example.org\n",
    "\n",
    "borrarUsuarios = posts_collection.delete_many({\"user_email\": {\"$regex\": \"@example.org$\"}})\n",
    "\n",
    "print(\"Se eliminaron\", borrarUsuarios.deleted_count, \"usuarios.\")\n"
   ]
  },
  {
   "cell_type": "code",
   "execution_count": null,
   "metadata": {},
   "outputs": [],
   "source": [
    "#7.1\n",
    "\n",
    "# Crear un índice en el campo ”user_email” para búsquedas de correo electrónico más rápidas.\n",
    "posts_collection.create_index([(\"user_email\", 1)])\n",
    "\n",
    "df = pd.DataFrame(list(posts_collection.index_information()))\n",
    "df\n"
   ]
  },
  {
   "cell_type": "code",
   "execution_count": null,
   "metadata": {},
   "outputs": [],
   "source": [
    "#7.2\n",
    "\n",
    "# Explicar el plan de consulta para encontrar usuarios con edad mayor a 30.\n",
    "\n",
    "\n",
    "posts_collection.find({\"user_age\": {\"$gt\": 30}}).explain()\n",
    "\n",
    "\n",
    "\n",
    "\n",
    "\n"
   ]
  },
  {
   "cell_type": "code",
   "execution_count": null,
   "metadata": {},
   "outputs": [],
   "source": [
    "#7.3"
   ]
  }
 ],
 "metadata": {
  "kernelspec": {
   "display_name": "Python 3",
   "language": "python",
   "name": "python3"
  },
  "language_info": {
   "codemirror_mode": {
    "name": "ipython",
    "version": 3
   },
   "file_extension": ".py",
   "mimetype": "text/x-python",
   "name": "python",
   "nbconvert_exporter": "python",
   "pygments_lexer": "ipython3",
   "version": "3.10.11"
  }
 },
 "nbformat": 4,
 "nbformat_minor": 2
}
