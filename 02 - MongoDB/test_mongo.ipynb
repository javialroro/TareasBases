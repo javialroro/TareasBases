{
 "cells": [
  {
   "cell_type": "code",
   "execution_count": 5,
   "metadata": {},
   "outputs": [],
   "source": [
    "from pymongo import MongoClient\n",
    "\n",
    "client = MongoClient('localhost', 27017, username='root', password='example')\n",
    "\n",
    "db = client['posts']\n",
    "posts_collection = db['posts']\n",
    "posts_collection.drop()\n",
    "\n",
    "\n"
   ]
  },
  {
   "cell_type": "code",
   "execution_count": 71,
   "metadata": {},
   "outputs": [],
   "source": [
    "from itertools import islice\n",
    "import json\n",
    "from datetime import datetime\n",
    "\n",
    "with open ('data.jsonl', 'r') as file:\n",
    "    for line in file:\n",
    "        data = json.loads(line)\n",
    "        data['post']['timestamp'] = datetime.fromisoformat(data['post']['timestamp'])\n",
    "        for comment in data['comments']:\n",
    "            comment['comment']['timestamp'] = datetime.fromisoformat(comment['comment']['timestamp'])\n",
    "        posts_collection.insert_one(data)"
   ]
  },
  {
   "cell_type": "code",
   "execution_count": null,
   "metadata": {},
   "outputs": [],
   "source": [
    "#1.1\n",
    "import json\n",
    "import random\n",
    "\n",
    "from faker import Faker\n",
    "\n",
    "# Create an instance of the Faker class\n",
    "fake = Faker()\n",
    "\n",
    "# Define the fields for posts, comments, and user information\n",
    "post_fields = [\"title\", \"content\"]\n",
    "comment_fields = [\"text\", \"timestamp\"]\n",
    "user_fields = [\"name\", \"email\", \"age\"]\n",
    "\n",
    "# Generate a list of 5 users with random information\n",
    "users = []\n",
    "for i in range(5):\n",
    "    user = {}\n",
    "    user[\"name\"] = fake.name()\n",
    "    user[\"email\"] = fake.email()\n",
    "    user[\"age\"] = random.randint(18, 60)\n",
    "    users.append(user)\n",
    "\n",
    "# Generate random posts and comments for each user\n",
    "data = []\n",
    "for user in users:\n",
    "    num_posts = random.randint(1, 100)\n",
    "    for _ in range(num_posts):\n",
    "        post = {}\n",
    "        post[\"user\"] = user[\"name\"]\n",
    "        post[\"user_email\"] = user[\"email\"]\n",
    "        post[\"user_age\"] = user[\"age\"]\n",
    "        post[\"post\"] = {}\n",
    "        post[\"post\"][\"title\"] = f'Random title for {user[\"name\"]}'\n",
    "        post[\"post\"][\"content\"] = f'Random content for {user[\"name\"]} {fake.text()}'\n",
    "        post[\"post\"][\"timestamp\"] = fake.date_time().isoformat()\n",
    "        num_comments = random.randint(0, 5)\n",
    "        post[\"comments\"] = []\n",
    "        for _ in range(num_comments):\n",
    "            comment = {}\n",
    "            comment[\"user\"] = random.choice(users)[\"name\"]\n",
    "            comment[\"user_email\"] = random.choice(users)[\"email\"]\n",
    "            comment[\"user_age\"] = random.choice(users)[\"age\"]\n",
    "            comment[\"comment\"] = {}\n",
    "            comment[\"comment\"][\"text\"] = f\"Random text {fake.text()}\"\n",
    "            comment[\"comment\"][\"timestamp\"] = fake.date_time().isoformat()\n",
    "            post[\"comments\"].append(comment)\n",
    "        data.append(post)\n",
    "\n",
    "for item in data:\n",
    "    posts_collection.insert_one(item)\n",
    "    print(item)\n",
    "    print('\\n)')\n",
    "\n",
    "    "
   ]
  },
  {
   "cell_type": "code",
   "execution_count": null,
   "metadata": {},
   "outputs": [],
   "source": [
    "#1.2\n",
    "#import pandas as pd\n",
    "# Buscar todos los usuarios mayores a 25\n",
    "\n",
    "users = posts_collection.aggregate([\n",
    "    {\"$match\": {\"user_age\": {\"$gt\": 25}}},\n",
    "    {\"$group\": {\"_id\": \"$user\", \"user_age\": {\"$first\": \"$user_age\"}}},\n",
    "    {\"$project\": {\"_id\": 0, \"user\": \"$_id\", \"user_age\": 1}}\n",
    "])\n",
    "\n",
    "\n",
    "# Convertir el cursor a un DataFrame de pandas\n",
    "df = pd.DataFrame(list(users))\n",
    "df\n"
   ]
  },
  {
   "cell_type": "code",
   "execution_count": null,
   "metadata": {},
   "outputs": [],
   "source": [
    "#1.3\n",
    "# Buscar un usuario por direccion de correo\n",
    "\n",
    "user = posts_collection.find_one({\"user_email\": \"tmartin@example.org\"})\n",
    "# Imprimir el resultado\n",
    "print(user)\n"
   ]
  },
  {
   "cell_type": "code",
   "execution_count": null,
   "metadata": {},
   "outputs": [],
   "source": [
    "#1.4"
   ]
  },
  {
   "cell_type": "code",
   "execution_count": null,
   "metadata": {},
   "outputs": [],
   "source": [
    "#1.5"
   ]
  },
  {
   "cell_type": "code",
   "execution_count": null,
   "metadata": {},
   "outputs": [],
   "source": [
    "#2.1\n",
    "# Buscar todos los usuarios cuyo nombre de usuario contenga la palabra S̈mith.̈ (Expresiones regulares)\n",
    "users = posts_collection.aggregate([\n",
    "    {\"$match\": {\"user\": {\"$regex\": \"Smith\", \"$options\": \"i\"}}},\n",
    "    {\"$group\": {\"_id\": \"$user\"}},\n",
    "    {\"$project\": {\"_id\": 0, \"user\": \"$_id\"}}\n",
    "])\n",
    "\n",
    "\n",
    "# Convertir el cursor a un DataFrame de pandas\n",
    "df = pd.DataFrame(list(users))\n",
    "df\n"
   ]
  },
  {
   "cell_type": "code",
   "execution_count": null,
   "metadata": {},
   "outputs": [],
   "source": [
    "#2.2"
   ]
  },
  {
   "cell_type": "code",
   "execution_count": null,
   "metadata": {},
   "outputs": [],
   "source": [
    "#2.3"
   ]
  },
  {
   "cell_type": "code",
   "execution_count": null,
   "metadata": {},
   "outputs": [],
   "source": [
    "#2.4"
   ]
  },
  {
   "cell_type": "code",
   "execution_count": null,
   "metadata": {},
   "outputs": [],
   "source": [
    "#2.5"
   ]
  },
  {
   "cell_type": "code",
   "execution_count": null,
   "metadata": {},
   "outputs": [],
   "source": [
    "#3.1\n",
    "#Buscar usuarios que tengan más de 20 años pero menos de 30. (Combinar operadores)\n",
    "\n",
    "users = posts_collection.aggregate([\n",
    "{\"$match\": {\"user_age\": {\"$gt\": 25, \"$lt\": 30}}},\n",
    "{\"$group\": {\"_id\": \"$user\", \"user_age\": {\"$first\": \"$user_age\"}}},\n",
    "{\"$project\": {\"_id\": 0, \"user\": \"$_id\", \"user_age\": 1}}\n",
    "])\n",
    "\n",
    "df = pd.DataFrame(list(users))\n",
    "df"
   ]
  },
  {
   "cell_type": "code",
   "execution_count": null,
   "metadata": {},
   "outputs": [],
   "source": [
    "#3.2"
   ]
  },
  {
   "cell_type": "code",
   "execution_count": null,
   "metadata": {},
   "outputs": [],
   "source": [
    "#3.3"
   ]
  },
  {
   "cell_type": "code",
   "execution_count": null,
   "metadata": {},
   "outputs": [],
   "source": [
    "#3.4"
   ]
  },
  {
   "cell_type": "code",
   "execution_count": null,
   "metadata": {},
   "outputs": [],
   "source": [
    "#3.5"
   ]
  },
  {
   "cell_type": "code",
   "execution_count": null,
   "metadata": {},
   "outputs": [],
   "source": [
    "#4.1\n",
    "# Ordenar todos los usuarios por edad en orden descendente\n",
    "\n",
    "users = posts_collection.aggregate([\n",
    "{\"$group\": {\"_id\": \"$user\", \"user_age\": {\"$first\": \"$user_age\"}}},\n",
    "{\"$sort\": {\"user_age\": -1}},\n",
    "{\"$project\": {\"_id\": 0, \"user\": \"$_id\", \"user_age\": 1}}\n",
    "])\n",
    "\n",
    "df = pd.DataFrame(list(users))\n",
    "df"
   ]
  },
  {
   "cell_type": "code",
   "execution_count": null,
   "metadata": {},
   "outputs": [],
   "source": [
    "#4.2"
   ]
  },
  {
   "cell_type": "code",
   "execution_count": null,
   "metadata": {},
   "outputs": [],
   "source": [
    "#4.3"
   ]
  },
  {
   "cell_type": "code",
   "execution_count": null,
   "metadata": {},
   "outputs": [],
   "source": [
    "#5.1\n",
    "#1. Utilizar el pipeline de agregación para calcular el número total de usuarios.\n",
    "\n",
    "users = posts_collection.aggregate([\n",
    "{\"$group\": {\"_id\": \"$user\"}},\n",
    "{\"$group\": {\"_id\": None, \"Cantidad\": {\"$sum\": 1}}},\n",
    "{\"$project\": {\"_id\": 0, \"Cantidad\": 1}}\n",
    "])\n",
    "\n",
    "df = pd.DataFrame(list(users))\n",
    "df\n"
   ]
  },
  {
   "cell_type": "code",
   "execution_count": null,
   "metadata": {},
   "outputs": [],
   "source": [
    "#5.2"
   ]
  },
  {
   "cell_type": "code",
   "execution_count": null,
   "metadata": {},
   "outputs": [],
   "source": [
    "#5.3"
   ]
  },
  {
   "cell_type": "code",
   "execution_count": null,
   "metadata": {},
   "outputs": [],
   "source": [
    "#5.4"
   ]
  },
  {
   "cell_type": "code",
   "execution_count": null,
   "metadata": {},
   "outputs": [],
   "source": [
    "#5.5"
   ]
  },
  {
   "cell_type": "code",
   "execution_count": null,
   "metadata": {},
   "outputs": [],
   "source": [
    "#6.1\n",
    "\n",
    "# Incrementar la edad de todos los usuarios en 1 con operadores\n",
    "\n",
    "posts_collection.update_many({}, {\"$inc\": {\"user_age\": 1}})\n",
    "\n",
    "users = posts_collection.aggregate([\n",
    "    {\"$group\": {\"_id\": \"$user\", \"user_age\": {\"$first\": \"$user_age\"}}},\n",
    "    {\"$project\": {\"_id\": 0, \"user\": \"$_id\", \"user_age\": 1}}\n",
    "])\n",
    "\n",
    "\n",
    "df = pd.DataFrame(list(users))\n",
    "df"
   ]
  },
  {
   "cell_type": "code",
   "execution_count": null,
   "metadata": {},
   "outputs": [],
   "source": [
    "#6.2"
   ]
  },
  {
   "cell_type": "code",
   "execution_count": null,
   "metadata": {},
   "outputs": [],
   "source": [
    "#6.3"
   ]
  },
  {
   "cell_type": "code",
   "execution_count": null,
   "metadata": {},
   "outputs": [],
   "source": [
    "#6.4"
   ]
  },
  {
   "cell_type": "code",
   "execution_count": null,
   "metadata": {},
   "outputs": [],
   "source": [
    "#7.1\n",
    "\n",
    "# Crear un índice en el campo ”user_email” para búsquedas de correo electrónico más rápidas.\n",
    "posts_collection.create_index([(\"user_email\", 1)])\n",
    "\n",
    "df = pd.DataFrame(list(posts_collection.index_information()))\n",
    "df\n"
   ]
  },
  {
   "cell_type": "code",
   "execution_count": null,
   "metadata": {},
   "outputs": [],
   "source": [
    "#7.2"
   ]
  },
  {
   "cell_type": "code",
   "execution_count": null,
   "metadata": {},
   "outputs": [],
   "source": [
    "#7.3"
   ]
  }
 ],
 "metadata": {
  "kernelspec": {
   "display_name": "Python 3",
   "language": "python",
   "name": "python3"
  },
  "language_info": {
   "codemirror_mode": {
    "name": "ipython",
    "version": 3
   },
   "file_extension": ".py",
   "mimetype": "text/x-python",
   "name": "python",
   "nbconvert_exporter": "python",
   "pygments_lexer": "ipython3",
   "version": "3.10.11"
  }
 },
 "nbformat": 4,
 "nbformat_minor": 2
}
