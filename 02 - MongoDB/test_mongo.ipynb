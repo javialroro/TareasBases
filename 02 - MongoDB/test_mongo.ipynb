{
 "cells": [
  {
   "cell_type": "code",
   "execution_count": 7,
   "metadata": {},
   "outputs": [],
   "source": [
    "from pymongo import MongoClient\n",
    "\n",
    "client = MongoClient('localhost', 27017, username='root', password='example')\n",
    "\n",
    "db = client['posts']\n",
    "posts_collection = db['posts']\n",
    "posts_collection.drop()\n",
    "\n",
    "\n"
   ]
  },
  {
   "cell_type": "code",
   "execution_count": 11,
   "metadata": {},
   "outputs": [
    {
     "name": "stdout",
     "output_type": "stream",
     "text": [
      "{'user': 'Lindsay Thornton', 'user_email': 'alexanderwheeler@example.org', 'user_age': 28, 'post': {'title': 'Random title for Lindsay Thornton', 'content': 'Random content for Lindsay Thornton Pressure employee by above law its not. Way open a such whether cut. Election scientist money role wait serious lot. Sort control man go really quality region.', 'timestamp': datetime.datetime(2001, 12, 22, 13, 33, 57, 415698)}, 'comments': [{'user': 'Kristi Cooley', 'user_email': 'claytoncody@example.org', 'user_age': 39, 'comment': {'text': 'Random text Capital measure anyone provide PM instead few.\\nThan hotel study especially once. Performance eye right president minute admit treat. Before mind would stay role garden.', 'timestamp': datetime.datetime(1998, 7, 21, 12, 59, 7, 588567)}}]}\n",
      "{'user': 'Lindsay Thornton', 'user_email': 'alexanderwheeler@example.org', 'user_age': 28, 'post': {'title': 'Random title for Lindsay Thornton', 'content': 'Random content for Lindsay Thornton Career real suggest consider present industry. Else pattern leader. Economy course change yes same. Bill record my rise herself spend door.', 'timestamp': datetime.datetime(1992, 5, 3, 2, 1, 29, 34512)}, 'comments': [{'user': 'Beth Mendez', 'user_email': 'carrie93@example.com', 'user_age': 49, 'comment': {'text': 'Random text Foot that early level prevent general century. First including artist everyone discussion.\\nCapital fear deep.', 'timestamp': datetime.datetime(1993, 5, 18, 10, 31, 49, 908240)}}, {'user': 'Michael Smith', 'user_email': 'reneeterry@example.org', 'user_age': 28, 'comment': {'text': 'Random text Establish represent wear. Although everything name interest provide network.\\nForm action off air kid wait. Later summer prove drop. Act enough key they major. He push yet though including.', 'timestamp': datetime.datetime(1999, 4, 22, 1, 36, 43, 442233)}}, {'user': 'Richard Bonilla', 'user_email': 'ginawood@example.org', 'user_age': 18, 'comment': {'text': 'Random text Factor hospital fish believe. Election evening day interview image side movie. On thing sound bit last force indeed. Threat capital soon management.', 'timestamp': datetime.datetime(2017, 1, 4, 0, 22, 16, 976309)}}]}\n"
     ]
    }
   ],
   "source": [
    "from itertools import islice\n",
    "import json\n",
    "from datetime import datetime\n",
    "\n",
    "with open ('data.jsonl', 'r') as file:\n",
    "    for line in islice(file, 2):\n",
    "        data = json.loads(line)\n",
    "        data['post']['timestamp'] = datetime.fromisoformat(data['post']['timestamp'])\n",
    "        for comment in data['comments']:\n",
    "            comment['comment']['timestamp'] = datetime.fromisoformat(comment['comment']['timestamp'])\n",
    "        posts_collection.insert_one(data)"
   ]
  }
 ],
 "metadata": {
  "kernelspec": {
   "display_name": "Python 3",
   "language": "python",
   "name": "python3"
  },
  "language_info": {
   "codemirror_mode": {
    "name": "ipython",
    "version": 3
   },
   "file_extension": ".py",
   "mimetype": "text/x-python",
   "name": "python",
   "nbconvert_exporter": "python",
   "pygments_lexer": "ipython3",
   "version": "3.11.6"
  }
 },
 "nbformat": 4,
 "nbformat_minor": 2
}
