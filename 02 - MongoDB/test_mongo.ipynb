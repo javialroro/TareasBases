{
 "cells": [
  {
   "cell_type": "code",
   "execution_count": 4,
   "metadata": {},
   "outputs": [],
   "source": [
    "from pymongo import MongoClient\n",
    "\n",
    "client = MongoClient('localhost', 27017, username='root', password='example')\n",
    "\n",
    "db = client['posts']\n",
    "posts_collection = db['posts']\n",
    "posts_collection.drop()\n",
    "\n",
    "\n"
   ]
  },
  {
   "cell_type": "code",
   "execution_count": 5,
   "metadata": {},
   "outputs": [],
   "source": [
    "from itertools import islice\n",
    "import json\n",
    "from datetime import datetime\n",
    "\n",
    "with open ('data.jsonl', 'r') as file:\n",
    "    for line in file:\n",
    "        data = json.loads(line)\n",
    "        data['post']['timestamp'] = datetime.fromisoformat(data['post']['timestamp'])\n",
    "        for comment in data['comments']:\n",
    "            comment['comment']['timestamp'] = datetime.fromisoformat(comment['comment']['timestamp'])\n",
    "        posts_collection.insert_one(data)"
   ]
  },
  {
   "cell_type": "code",
   "execution_count": null,
   "metadata": {},
   "outputs": [],
   "source": [
    "#1.1\n",
    "import json\n",
    "import random\n",
    "\n",
    "from faker import Faker\n",
    "\n",
    "# Create an instance of the Faker class\n",
    "fake = Faker()\n",
    "\n",
    "# Define the fields for posts, comments, and user information\n",
    "post_fields = [\"title\", \"content\"]\n",
    "comment_fields = [\"text\", \"timestamp\"]\n",
    "user_fields = [\"name\", \"email\", \"age\"]\n",
    "\n",
    "# Generate a list of 5 users with random information\n",
    "users = []\n",
    "for i in range(5):\n",
    "    user = {}\n",
    "    user[\"name\"] = fake.name()\n",
    "    user[\"email\"] = fake.email()\n",
    "    user[\"age\"] = random.randint(18, 60)\n",
    "    users.append(user)\n",
    "\n",
    "# Generate random posts and comments for each user\n",
    "data = []\n",
    "for user in users:\n",
    "    num_posts = random.randint(1, 100)\n",
    "    for _ in range(num_posts):\n",
    "        post = {}\n",
    "        post[\"user\"] = user[\"name\"]\n",
    "        post[\"user_email\"] = user[\"email\"]\n",
    "        post[\"user_age\"] = user[\"age\"]\n",
    "        post[\"post\"] = {}\n",
    "        post[\"post\"][\"title\"] = f'Random title for {user[\"name\"]}'\n",
    "        post[\"post\"][\"content\"] = f'Random content for {user[\"name\"]} {fake.text()}'\n",
    "        post[\"post\"][\"timestamp\"] = fake.date_time().isoformat()\n",
    "        num_comments = random.randint(0, 5)\n",
    "        post[\"comments\"] = []\n",
    "        for _ in range(num_comments):\n",
    "            comment = {}\n",
    "            comment[\"user\"] = random.choice(users)[\"name\"]\n",
    "            comment[\"user_email\"] = random.choice(users)[\"email\"]\n",
    "            comment[\"user_age\"] = random.choice(users)[\"age\"]\n",
    "            comment[\"comment\"] = {}\n",
    "            comment[\"comment\"][\"text\"] = f\"Random text {fake.text()}\"\n",
    "            comment[\"comment\"][\"timestamp\"] = fake.date_time().isoformat()\n",
    "            post[\"comments\"].append(comment)\n",
    "        data.append(post)\n",
    "\n",
    "for item in data:\n",
    "    posts_collection.insert_one(item)\n",
    "    print(item)\n",
    "    print('\\n)')\n",
    "\n",
    "    "
   ]
  },
  {
   "cell_type": "code",
   "execution_count": null,
   "metadata": {},
   "outputs": [],
   "source": [
    "#1.2\n",
    "\n",
    "\n",
    "import pandas as pd\n",
    "# Buscar todos los usuarios mayores a 25\n",
    "\n",
    "users = posts_collection.aggregate([\n",
    "    {\"$match\": {\"user_age\": {\"$gt\": 25}}},\n",
    "    {\"$group\": {\"_id\": \"$user\", \"user_age\": {\"$first\": \"$user_age\"}}},\n",
    "    {\"$project\": {\"_id\": 0, \"user\": \"$_id\", \"user_age\": 1}}\n",
    "])\n",
    "\n",
    "\n",
    "# Convertir el cursor a un DataFrame de pandas\n",
    "df = pd.DataFrame(list(users))\n",
    "df\n"
   ]
  },
  {
   "cell_type": "code",
   "execution_count": 6,
   "metadata": {},
   "outputs": [
    {
     "name": "stdout",
     "output_type": "stream",
     "text": [
      "{'_id': ObjectId('65ed0d6aa4fe388ae296fce5'), 'user': 'Joann Bowen', 'user_email': 'tmartin@example.org', 'user_age': 19, 'post': {'title': 'Random title for Joann Bowen', 'content': 'Random content for Joann Bowen Wide take drop. Down goal still phone chance tonight. See stock beat significant right.\\nCommercial eye meet impact risk. Every laugh true leave chair part because.', 'timestamp': datetime.datetime(1978, 9, 14, 0, 1, 17, 95000)}, 'comments': [{'user': 'Joshua Murray', 'user_email': 'tmartin@example.org', 'user_age': 51, 'comment': {'text': 'Random text Forget blue different most drive amount change. Beat successful inside court guess she thank. Image serious report cell federal majority how agent.', 'timestamp': datetime.datetime(1971, 3, 8, 2, 26, 36, 557000)}}]}\n"
     ]
    }
   ],
   "source": [
    "#1.3\n",
    "# Buscar un usuario por direccion de correo\n",
    "\n",
    "user = posts_collection.find_one({\"user_email\": \"tmartin@example.org\"})\n",
    "# Imprimir el resultado\n",
    "print(user)\n"
   ]
  },
  {
   "cell_type": "code",
   "execution_count": null,
   "metadata": {},
   "outputs": [],
   "source": [
    "#1.4"
   ]
  },
  {
   "cell_type": "code",
   "execution_count": null,
   "metadata": {},
   "outputs": [],
   "source": [
    "#1.5"
   ]
  },
  {
   "cell_type": "code",
   "execution_count": null,
   "metadata": {},
   "outputs": [],
   "source": [
    "#2.1\n",
    "# Buscar todos los usuarios cuyo nombre de usuario contenga la palabra S̈mith.̈ (Expresiones regulares)\n",
    "users = posts_collection.aggregate([\n",
    "    {\"$match\": {\"user\": {\"$regex\": \"Smith\", \"$options\": \"i\"}}},\n",
    "    {\"$group\": {\"_id\": \"$user\"}},\n",
    "    {\"$project\": {\"_id\": 0, \"user\": \"$_id\"}}\n",
    "])\n",
    "\n",
    "\n",
    "# Convertir el cursor a un DataFrame de pandas\n",
    "df = pd.DataFrame(list(users))\n",
    "df\n"
   ]
  },
  {
   "cell_type": "code",
   "execution_count": null,
   "metadata": {},
   "outputs": [],
   "source": [
    "#2.2\n",
    "# Buscar publicaciones creadas después de una fecha específica (por ejemplo, 2000-01-01)\n",
    "\n",
    "\n",
    "date = datetime(2000, 1, 1)\n",
    "\n",
    "\n",
    "posts = posts_collection.find(\n",
    "    {\"post.timestamp\": {\"$gt\": date}},\n",
    "    {\"user\": 1, \"post.timestamp\": 1, \"_id\": 0} # Seleccionar solo el nombre del usuario y la fecha\n",
    ")\n",
    "\n",
    "\n",
    "df = pd.DataFrame(list(posts))\n",
    "df.rename(columns={\"post\": \"timestamp\"}, inplace=True)  # Renombrar la columna \"post\" a \"timestamp\"\n",
    "df\n"
   ]
  },
  {
   "cell_type": "code",
   "execution_count": null,
   "metadata": {},
   "outputs": [],
   "source": [
    "#2.3"
   ]
  },
  {
   "cell_type": "code",
   "execution_count": null,
   "metadata": {},
   "outputs": [],
   "source": [
    "#2.4"
   ]
  },
  {
   "cell_type": "code",
   "execution_count": null,
   "metadata": {},
   "outputs": [],
   "source": [
    "#2.5"
   ]
  },
  {
   "cell_type": "code",
   "execution_count": null,
   "metadata": {},
   "outputs": [],
   "source": [
    "#3.1\n",
    "#Buscar usuarios que tengan más de 20 años pero menos de 30. (Combinar operadores)\n",
    "\n",
    "users = posts_collection.aggregate([\n",
    "{\"$match\": {\"user_age\": {\"$gt\": 25, \"$lt\": 30}}},\n",
    "{\"$group\": {\"_id\": \"$user\", \"user_age\": {\"$first\": \"$user_age\"}}},\n",
    "{\"$project\": {\"_id\": 0, \"user\": \"$_id\", \"user_age\": 1}}\n",
    "])\n",
    "\n",
    "df = pd.DataFrame(list(users))\n",
    "df"
   ]
  },
  {
   "cell_type": "code",
   "execution_count": null,
   "metadata": {},
   "outputs": [],
   "source": [
    "#3.2\n",
    "\n",
    "# Recuperar solo el nombre de usuario y la edad del usuario de todos los documentos. (Proyección\n",
    "users = posts_collection.find({}, {\"user\": 1, \"user_age\": 1, \"_id\": 0})\n",
    "df = pd.DataFrame(list(users))\n",
    "df"
   ]
  },
  {
   "cell_type": "code",
   "execution_count": null,
   "metadata": {},
   "outputs": [],
   "source": [
    "#3.3"
   ]
  },
  {
   "cell_type": "code",
   "execution_count": null,
   "metadata": {},
   "outputs": [],
   "source": [
    "#3.4"
   ]
  },
  {
   "cell_type": "code",
   "execution_count": null,
   "metadata": {},
   "outputs": [],
   "source": [
    "#3.5"
   ]
  },
  {
   "cell_type": "code",
   "execution_count": null,
   "metadata": {},
   "outputs": [],
   "source": [
    "#4.1\n",
    "# Ordenar todos los usuarios por edad en orden descendente\n",
    "\n",
    "users = posts_collection.aggregate([\n",
    "{\"$group\": {\"_id\": \"$user\", \"user_age\": {\"$first\": \"$user_age\"}}},\n",
    "{\"$sort\": {\"user_age\": -1}},\n",
    "{\"$project\": {\"_id\": 0, \"user\": \"$_id\", \"user_age\": 1}}\n",
    "])\n",
    "\n",
    "df = pd.DataFrame(list(users))\n",
    "df"
   ]
  },
  {
   "cell_type": "code",
   "execution_count": 25,
   "metadata": {},
   "outputs": [
    {
     "data": {
      "text/html": [
       "<div>\n",
       "<style scoped>\n",
       "    .dataframe tbody tr th:only-of-type {\n",
       "        vertical-align: middle;\n",
       "    }\n",
       "\n",
       "    .dataframe tbody tr th {\n",
       "        vertical-align: top;\n",
       "    }\n",
       "\n",
       "    .dataframe thead th {\n",
       "        text-align: right;\n",
       "    }\n",
       "</style>\n",
       "<table border=\"1\" class=\"dataframe\">\n",
       "  <thead>\n",
       "    <tr style=\"text-align: right;\">\n",
       "      <th></th>\n",
       "      <th>latest_post</th>\n",
       "      <th>user</th>\n",
       "    </tr>\n",
       "  </thead>\n",
       "  <tbody>\n",
       "    <tr>\n",
       "      <th>0</th>\n",
       "      <td>2024-02-28 20:30:48.385</td>\n",
       "      <td>Michael Smith</td>\n",
       "    </tr>\n",
       "    <tr>\n",
       "      <th>1</th>\n",
       "      <td>2024-02-26 09:53:04.022</td>\n",
       "      <td>Erin Smith</td>\n",
       "    </tr>\n",
       "    <tr>\n",
       "      <th>2</th>\n",
       "      <td>2024-02-04 15:56:25.075</td>\n",
       "      <td>Gary Best</td>\n",
       "    </tr>\n",
       "  </tbody>\n",
       "</table>\n",
       "</div>"
      ],
      "text/plain": [
       "              latest_post           user\n",
       "0 2024-02-28 20:30:48.385  Michael Smith\n",
       "1 2024-02-26 09:53:04.022     Erin Smith\n",
       "2 2024-02-04 15:56:25.075      Gary Best"
      ]
     },
     "execution_count": 25,
     "metadata": {},
     "output_type": "execute_result"
    }
   ],
   "source": [
    "#4.2\n",
    "\n",
    "#Buscar los top 3 usuarios principales con las publicaciones más recientes (en función de la marca de tiempo).\n",
    "\n",
    "users = posts_collection.aggregate([\n",
    "    {\"$sort\": {\"post.timestamp\": -1}},\n",
    "    {\"$group\": {\"_id\": \"$user\", \"latest_post\": {\"$first\": \"$post.timestamp\"}}},\n",
    "    {\"$sort\": {\"latest_post\": -1}},\n",
    "    {\"$limit\": 3},\n",
    "    {\"$project\": {\"_id\": 0, \"user\": \"$_id\", \"latest_post\": 1}}\n",
    "])\n",
    "\n",
    "df = pd.DataFrame(list(users))\n",
    "df"
   ]
  },
  {
   "cell_type": "code",
   "execution_count": null,
   "metadata": {},
   "outputs": [],
   "source": [
    "#4.3"
   ]
  },
  {
   "cell_type": "code",
   "execution_count": null,
   "metadata": {},
   "outputs": [],
   "source": [
    "#5.1\n",
    "#1. Utilizar el pipeline de agregación para calcular el número total de usuarios.\n",
    "\n",
    "users = posts_collection.aggregate([\n",
    "{\"$group\": {\"_id\": \"$user\"}},\n",
    "{\"$group\": {\"_id\": None, \"Cantidad\": {\"$sum\": 1}}},\n",
    "{\"$project\": {\"_id\": 0, \"Cantidad\": 1}}\n",
    "])\n",
    "\n",
    "df = pd.DataFrame(list(users))\n",
    "df\n"
   ]
  },
  {
   "cell_type": "code",
   "execution_count": 32,
   "metadata": {},
   "outputs": [
    {
     "data": {
      "text/html": [
       "<div>\n",
       "<style scoped>\n",
       "    .dataframe tbody tr th:only-of-type {\n",
       "        vertical-align: middle;\n",
       "    }\n",
       "\n",
       "    .dataframe tbody tr th {\n",
       "        vertical-align: top;\n",
       "    }\n",
       "\n",
       "    .dataframe thead th {\n",
       "        text-align: right;\n",
       "    }\n",
       "</style>\n",
       "<table border=\"1\" class=\"dataframe\">\n",
       "  <thead>\n",
       "    <tr style=\"text-align: right;\">\n",
       "      <th></th>\n",
       "      <th>_id</th>\n",
       "      <th>user</th>\n",
       "      <th>largo_Contenido</th>\n",
       "    </tr>\n",
       "  </thead>\n",
       "  <tbody>\n",
       "    <tr>\n",
       "      <th>0</th>\n",
       "      <td>65ed0d6ca4fe388ae29700b0</td>\n",
       "      <td>Christopher Jenkins</td>\n",
       "      <td>238</td>\n",
       "    </tr>\n",
       "  </tbody>\n",
       "</table>\n",
       "</div>"
      ],
      "text/plain": [
       "                        _id                 user  largo_Contenido\n",
       "0  65ed0d6ca4fe388ae29700b0  Christopher Jenkins              238"
      ]
     },
     "execution_count": 32,
     "metadata": {},
     "output_type": "execute_result"
    }
   ],
   "source": [
    "#5.2\n",
    "\n",
    "#  Encontrar al usuario con el contenido de publicación más largo (en función del número de caracteres)\n",
    "\n",
    "users = posts_collection.aggregate([\n",
    "    {\"$project\": {\"user\": 1, \"largo_Contenido\": {\"$strLenCP\": \"$post.content\"}}},\n",
    "    {\"$sort\": {\"largo_Contenido\": -1}},\n",
    "     {\"$limit\": 1}\n",
    "])\n",
    "\n",
    "df = pd.DataFrame(list(users))\n",
    "df"
   ]
  },
  {
   "cell_type": "code",
   "execution_count": null,
   "metadata": {},
   "outputs": [],
   "source": [
    "#5.3"
   ]
  },
  {
   "cell_type": "code",
   "execution_count": null,
   "metadata": {},
   "outputs": [],
   "source": [
    "#5.4"
   ]
  },
  {
   "cell_type": "code",
   "execution_count": null,
   "metadata": {},
   "outputs": [],
   "source": [
    "#5.5"
   ]
  },
  {
   "cell_type": "code",
   "execution_count": null,
   "metadata": {},
   "outputs": [],
   "source": [
    "#6.1\n",
    "\n",
    "# Incrementar la edad de todos los usuarios en 1 con operadores\n",
    "\n",
    "posts_collection.update_many({}, {\"$inc\": {\"user_age\": 1}})\n",
    "\n",
    "users = posts_collection.aggregate([\n",
    "    {\"$group\": {\"_id\": \"$user\", \"user_age\": {\"$first\": \"$user_age\"}}},\n",
    "    {\"$project\": {\"_id\": 0, \"user\": \"$_id\", \"user_age\": 1}}\n",
    "])\n",
    "\n",
    "\n",
    "df = pd.DataFrame(list(users))\n",
    "df"
   ]
  },
  {
   "cell_type": "code",
   "execution_count": 50,
   "metadata": {},
   "outputs": [
    {
     "data": {
      "text/html": [
       "<div>\n",
       "<style scoped>\n",
       "    .dataframe tbody tr th:only-of-type {\n",
       "        vertical-align: middle;\n",
       "    }\n",
       "\n",
       "    .dataframe tbody tr th {\n",
       "        vertical-align: top;\n",
       "    }\n",
       "\n",
       "    .dataframe thead th {\n",
       "        text-align: right;\n",
       "    }\n",
       "</style>\n",
       "<table border=\"1\" class=\"dataframe\">\n",
       "  <thead>\n",
       "    <tr style=\"text-align: right;\">\n",
       "      <th></th>\n",
       "      <th>_id</th>\n",
       "      <th>user</th>\n",
       "      <th>user_email</th>\n",
       "      <th>user_age</th>\n",
       "      <th>post</th>\n",
       "      <th>comments</th>\n",
       "    </tr>\n",
       "  </thead>\n",
       "  <tbody>\n",
       "    <tr>\n",
       "      <th>0</th>\n",
       "      <td>65ed0d6aa4fe388ae296fce5</td>\n",
       "      <td>Joann Bowen</td>\n",
       "      <td>tmartin@example.org</td>\n",
       "      <td>19</td>\n",
       "      <td>{'title': 'Random title for Joann Bowen', 'con...</td>\n",
       "      <td>[{'user': 'Joshua Murray', 'user_email': 'tmar...</td>\n",
       "    </tr>\n",
       "    <tr>\n",
       "      <th>1</th>\n",
       "      <td>65ed0d6aa4fe388ae296fcf1</td>\n",
       "      <td>Mrs. Christine Sawyer</td>\n",
       "      <td>edwardsmeagan@example.com</td>\n",
       "      <td>37</td>\n",
       "      <td>{'title': 'Random title for Mrs. Christine Saw...</td>\n",
       "      <td>[{'user': 'Christopher Jenkins', 'user_email':...</td>\n",
       "    </tr>\n",
       "    <tr>\n",
       "      <th>2</th>\n",
       "      <td>65ed0d6aa4fe388ae296fcf6</td>\n",
       "      <td>Kayla Hill</td>\n",
       "      <td>snyderkathy@example.net</td>\n",
       "      <td>29</td>\n",
       "      <td>{'title': 'Random title for Kayla Hill', 'cont...</td>\n",
       "      <td>[{'user': 'Jon Rodriguez', 'user_email': 'jose...</td>\n",
       "    </tr>\n",
       "  </tbody>\n",
       "</table>\n",
       "</div>"
      ],
      "text/plain": [
       "                        _id                   user                 user_email  \\\n",
       "0  65ed0d6aa4fe388ae296fce5            Joann Bowen        tmartin@example.org   \n",
       "1  65ed0d6aa4fe388ae296fcf1  Mrs. Christine Sawyer  edwardsmeagan@example.com   \n",
       "2  65ed0d6aa4fe388ae296fcf6             Kayla Hill    snyderkathy@example.net   \n",
       "\n",
       "   user_age                                               post  \\\n",
       "0        19  {'title': 'Random title for Joann Bowen', 'con...   \n",
       "1        37  {'title': 'Random title for Mrs. Christine Saw...   \n",
       "2        29  {'title': 'Random title for Kayla Hill', 'cont...   \n",
       "\n",
       "                                            comments  \n",
       "0  [{'user': 'Joshua Murray', 'user_email': 'tmar...  \n",
       "1  [{'user': 'Christopher Jenkins', 'user_email':...  \n",
       "2  [{'user': 'Jon Rodriguez', 'user_email': 'jose...  "
      ]
     },
     "execution_count": 50,
     "metadata": {},
     "output_type": "execute_result"
    }
   ],
   "source": [
    "#6.2\n",
    "\n",
    "# Establecer el campo ”contenido” de una publicación específica en una cadena vacía.\n",
    "\n",
    "posts_collection.update_one({\"post.title\": \"Random title for Mrs. Christine Sawyer\"}, {\"$set\": {\"post.content\": \"\"}})\n",
    "\n",
    "post = posts_collection.find({\"post.content\": \"\"})\n",
    "\n",
    "df = pd.DataFrame(list(post))\n",
    "df"
   ]
  },
  {
   "cell_type": "code",
   "execution_count": null,
   "metadata": {},
   "outputs": [],
   "source": [
    "#6.3"
   ]
  },
  {
   "cell_type": "code",
   "execution_count": null,
   "metadata": {},
   "outputs": [],
   "source": [
    "#6.4"
   ]
  },
  {
   "cell_type": "code",
   "execution_count": null,
   "metadata": {},
   "outputs": [],
   "source": [
    "#7.1\n",
    "\n",
    "# Crear un índice en el campo ”user_email” para búsquedas de correo electrónico más rápidas.\n",
    "posts_collection.create_index([(\"user_email\", 1)])\n",
    "\n",
    "df = pd.DataFrame(list(posts_collection.index_information()))\n",
    "df\n"
   ]
  },
  {
   "cell_type": "code",
   "execution_count": 53,
   "metadata": {},
   "outputs": [
    {
     "data": {
      "text/plain": [
       "{'explainVersion': '1',\n",
       " 'queryPlanner': {'namespace': 'posts.posts',\n",
       "  'indexFilterSet': False,\n",
       "  'parsedQuery': {'user_age': {'$gt': 30}},\n",
       "  'queryHash': 'A95D609D',\n",
       "  'planCacheKey': 'A95D609D',\n",
       "  'maxIndexedOrSolutionsReached': False,\n",
       "  'maxIndexedAndSolutionsReached': False,\n",
       "  'maxScansToExplodeReached': False,\n",
       "  'winningPlan': {'stage': 'COLLSCAN',\n",
       "   'filter': {'user_age': {'$gt': 30}},\n",
       "   'direction': 'forward'},\n",
       "  'rejectedPlans': []},\n",
       " 'executionStats': {'executionSuccess': True,\n",
       "  'nReturned': 860,\n",
       "  'executionTimeMillis': 1,\n",
       "  'totalKeysExamined': 0,\n",
       "  'totalDocsExamined': 1435,\n",
       "  'executionStages': {'stage': 'COLLSCAN',\n",
       "   'filter': {'user_age': {'$gt': 30}},\n",
       "   'nReturned': 860,\n",
       "   'executionTimeMillisEstimate': 0,\n",
       "   'works': 1436,\n",
       "   'advanced': 860,\n",
       "   'needTime': 575,\n",
       "   'needYield': 0,\n",
       "   'saveState': 1,\n",
       "   'restoreState': 1,\n",
       "   'isEOF': 1,\n",
       "   'direction': 'forward',\n",
       "   'docsExamined': 1435},\n",
       "  'allPlansExecution': []},\n",
       " 'command': {'find': 'posts',\n",
       "  'filter': {'user_age': {'$gt': 30}},\n",
       "  '$db': 'posts'},\n",
       " 'serverInfo': {'host': 'd68702abb756',\n",
       "  'port': 27017,\n",
       "  'version': '7.0.6',\n",
       "  'gitVersion': '66cdc1f28172cb33ff68263050d73d4ade73b9a4'},\n",
       " 'serverParameters': {'internalQueryFacetBufferSizeBytes': 104857600,\n",
       "  'internalQueryFacetMaxOutputDocSizeBytes': 104857600,\n",
       "  'internalLookupStageIntermediateDocumentMaxSizeBytes': 104857600,\n",
       "  'internalDocumentSourceGroupMaxMemoryBytes': 104857600,\n",
       "  'internalQueryMaxBlockingSortMemoryUsageBytes': 104857600,\n",
       "  'internalQueryProhibitBlockingMergeOnMongoS': 0,\n",
       "  'internalQueryMaxAddToSetBytes': 104857600,\n",
       "  'internalDocumentSourceSetWindowFieldsMaxMemoryBytes': 104857600,\n",
       "  'internalQueryFrameworkControl': 'trySbeRestricted'},\n",
       " 'ok': 1.0}"
      ]
     },
     "execution_count": 53,
     "metadata": {},
     "output_type": "execute_result"
    }
   ],
   "source": [
    "#7.2\n",
    "\n",
    "# Explicar el plan de consulta para encontrar usuarios con edad mayor a 30.\n",
    "\n",
    "\n",
    "posts_collection.find({\"user_age\": {\"$gt\": 30}}).explain()\n",
    "\n",
    "\n",
    "\n",
    "\n",
    "\n"
   ]
  },
  {
   "cell_type": "code",
   "execution_count": null,
   "metadata": {},
   "outputs": [],
   "source": [
    "#7.3"
   ]
  }
 ],
 "metadata": {
  "kernelspec": {
   "display_name": "Python 3",
   "language": "python",
   "name": "python3"
  },
  "language_info": {
   "codemirror_mode": {
    "name": "ipython",
    "version": 3
   },
   "file_extension": ".py",
   "mimetype": "text/x-python",
   "name": "python",
   "nbconvert_exporter": "python",
   "pygments_lexer": "ipython3",
   "version": "3.12.2"
  }
 },
 "nbformat": 4,
 "nbformat_minor": 2
}
